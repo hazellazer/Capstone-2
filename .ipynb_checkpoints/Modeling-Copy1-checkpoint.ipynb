{
 "cells": [
  {
   "cell_type": "code",
   "execution_count": 1,
   "metadata": {},
   "outputs": [],
   "source": [
    "import pandas as pd\n",
    "import sklearn.preprocessing as skp\n",
    "import matplotlib.pyplot as plt\n",
    "import numpy as np\n",
    "%matplotlib inline\n",
    "\n",
    "df = pd.read_csv('data/2_state_data.csv', index_col=0)"
   ]
  },
  {
   "cell_type": "code",
   "execution_count": 2,
   "metadata": {},
   "outputs": [
    {
     "data": {
      "text/html": [
       "<div>\n",
       "<style scoped>\n",
       "    .dataframe tbody tr th:only-of-type {\n",
       "        vertical-align: middle;\n",
       "    }\n",
       "\n",
       "    .dataframe tbody tr th {\n",
       "        vertical-align: top;\n",
       "    }\n",
       "\n",
       "    .dataframe thead th {\n",
       "        text-align: right;\n",
       "    }\n",
       "</style>\n",
       "<table border=\"1\" class=\"dataframe\">\n",
       "  <thead>\n",
       "    <tr style=\"text-align: right;\">\n",
       "      <th></th>\n",
       "      <th>State</th>\n",
       "      <th>Quantity</th>\n",
       "      <th>Acquisition Value</th>\n",
       "      <th>numStations</th>\n",
       "      <th>exp per station</th>\n",
       "      <th>deaths</th>\n",
       "      <th>pctBodyCam</th>\n",
       "      <th>pctfleeing</th>\n",
       "      <th>pctMHSymptoms</th>\n",
       "      <th>pctDeathsBlack</th>\n",
       "      <th>...</th>\n",
       "      <th>pctDeathsAsian</th>\n",
       "      <th>pctDeathsOther</th>\n",
       "      <th>pctPopWhite</th>\n",
       "      <th>pctPopBlack</th>\n",
       "      <th>pctPopHisp</th>\n",
       "      <th>pctPopAsian</th>\n",
       "      <th>pctPopOther</th>\n",
       "      <th>pctPopNative</th>\n",
       "      <th>Population</th>\n",
       "      <th>deaths_per_100k</th>\n",
       "    </tr>\n",
       "  </thead>\n",
       "  <tbody>\n",
       "    <tr>\n",
       "      <th>0</th>\n",
       "      <td>AK</td>\n",
       "      <td>17782</td>\n",
       "      <td>1644529.46</td>\n",
       "      <td>209</td>\n",
       "      <td>7868.562010</td>\n",
       "      <td>39.0</td>\n",
       "      <td>10.26</td>\n",
       "      <td>48.72</td>\n",
       "      <td>15.38</td>\n",
       "      <td>7.692308</td>\n",
       "      <td>...</td>\n",
       "      <td>5.128205</td>\n",
       "      <td>10.256410</td>\n",
       "      <td>60.0</td>\n",
       "      <td>3.0</td>\n",
       "      <td>7.0</td>\n",
       "      <td>6.0</td>\n",
       "      <td>7.0</td>\n",
       "      <td>17.0</td>\n",
       "      <td>732517.0</td>\n",
       "      <td>5.324109</td>\n",
       "    </tr>\n",
       "    <tr>\n",
       "      <th>1</th>\n",
       "      <td>AL</td>\n",
       "      <td>13116</td>\n",
       "      <td>40407156.02</td>\n",
       "      <td>1646</td>\n",
       "      <td>24548.697461</td>\n",
       "      <td>104.0</td>\n",
       "      <td>13.46</td>\n",
       "      <td>36.54</td>\n",
       "      <td>25.00</td>\n",
       "      <td>28.846154</td>\n",
       "      <td>...</td>\n",
       "      <td>0.000000</td>\n",
       "      <td>9.615385</td>\n",
       "      <td>66.0</td>\n",
       "      <td>26.0</td>\n",
       "      <td>4.0</td>\n",
       "      <td>1.0</td>\n",
       "      <td>2.0</td>\n",
       "      <td>1.0</td>\n",
       "      <td>4845319.8</td>\n",
       "      <td>2.146401</td>\n",
       "    </tr>\n",
       "    <tr>\n",
       "      <th>2</th>\n",
       "      <td>AR</td>\n",
       "      <td>9595</td>\n",
       "      <td>7867417.67</td>\n",
       "      <td>868</td>\n",
       "      <td>9063.845242</td>\n",
       "      <td>81.0</td>\n",
       "      <td>4.94</td>\n",
       "      <td>32.10</td>\n",
       "      <td>16.05</td>\n",
       "      <td>30.864198</td>\n",
       "      <td>...</td>\n",
       "      <td>1.234568</td>\n",
       "      <td>13.580247</td>\n",
       "      <td>72.0</td>\n",
       "      <td>15.0</td>\n",
       "      <td>8.0</td>\n",
       "      <td>2.0</td>\n",
       "      <td>3.0</td>\n",
       "      <td>2.0</td>\n",
       "      <td>2973843.5</td>\n",
       "      <td>2.723748</td>\n",
       "    </tr>\n",
       "    <tr>\n",
       "      <th>3</th>\n",
       "      <td>AZ</td>\n",
       "      <td>8143</td>\n",
       "      <td>6990431.91</td>\n",
       "      <td>642</td>\n",
       "      <td>10888.523224</td>\n",
       "      <td>253.0</td>\n",
       "      <td>10.28</td>\n",
       "      <td>35.18</td>\n",
       "      <td>18.58</td>\n",
       "      <td>6.719368</td>\n",
       "      <td>...</td>\n",
       "      <td>0.000000</td>\n",
       "      <td>13.043478</td>\n",
       "      <td>54.0</td>\n",
       "      <td>4.0</td>\n",
       "      <td>32.0</td>\n",
       "      <td>3.0</td>\n",
       "      <td>2.0</td>\n",
       "      <td>5.0</td>\n",
       "      <td>6804946.7</td>\n",
       "      <td>3.717884</td>\n",
       "    </tr>\n",
       "    <tr>\n",
       "      <th>4</th>\n",
       "      <td>CA</td>\n",
       "      <td>38522</td>\n",
       "      <td>46904224.48</td>\n",
       "      <td>1843</td>\n",
       "      <td>25449.931894</td>\n",
       "      <td>793.0</td>\n",
       "      <td>14.12</td>\n",
       "      <td>36.32</td>\n",
       "      <td>22.70</td>\n",
       "      <td>15.006305</td>\n",
       "      <td>...</td>\n",
       "      <td>3.656999</td>\n",
       "      <td>12.610340</td>\n",
       "      <td>37.0</td>\n",
       "      <td>5.0</td>\n",
       "      <td>39.0</td>\n",
       "      <td>15.0</td>\n",
       "      <td>3.0</td>\n",
       "      <td>2.0</td>\n",
       "      <td>38618190.0</td>\n",
       "      <td>2.053436</td>\n",
       "    </tr>\n",
       "  </tbody>\n",
       "</table>\n",
       "<p>5 rows × 23 columns</p>\n",
       "</div>"
      ],
      "text/plain": [
       "  State  Quantity  Acquisition Value  numStations  exp per station  deaths  \\\n",
       "0    AK     17782         1644529.46          209      7868.562010    39.0   \n",
       "1    AL     13116        40407156.02         1646     24548.697461   104.0   \n",
       "2    AR      9595         7867417.67          868      9063.845242    81.0   \n",
       "3    AZ      8143         6990431.91          642     10888.523224   253.0   \n",
       "4    CA     38522        46904224.48         1843     25449.931894   793.0   \n",
       "\n",
       "   pctBodyCam  pctfleeing  pctMHSymptoms  pctDeathsBlack  ...  pctDeathsAsian  \\\n",
       "0       10.26       48.72          15.38        7.692308  ...        5.128205   \n",
       "1       13.46       36.54          25.00       28.846154  ...        0.000000   \n",
       "2        4.94       32.10          16.05       30.864198  ...        1.234568   \n",
       "3       10.28       35.18          18.58        6.719368  ...        0.000000   \n",
       "4       14.12       36.32          22.70       15.006305  ...        3.656999   \n",
       "\n",
       "   pctDeathsOther  pctPopWhite  pctPopBlack  pctPopHisp  pctPopAsian  \\\n",
       "0       10.256410         60.0          3.0         7.0          6.0   \n",
       "1        9.615385         66.0         26.0         4.0          1.0   \n",
       "2       13.580247         72.0         15.0         8.0          2.0   \n",
       "3       13.043478         54.0          4.0        32.0          3.0   \n",
       "4       12.610340         37.0          5.0        39.0         15.0   \n",
       "\n",
       "   pctPopOther  pctPopNative  Population  deaths_per_100k  \n",
       "0          7.0          17.0    732517.0         5.324109  \n",
       "1          2.0           1.0   4845319.8         2.146401  \n",
       "2          3.0           2.0   2973843.5         2.723748  \n",
       "3          2.0           5.0   6804946.7         3.717884  \n",
       "4          3.0           2.0  38618190.0         2.053436  \n",
       "\n",
       "[5 rows x 23 columns]"
      ]
     },
     "execution_count": 2,
     "metadata": {},
     "output_type": "execute_result"
    }
   ],
   "source": [
    "df.head()"
   ]
  },
  {
   "cell_type": "code",
   "execution_count": null,
   "metadata": {},
   "outputs": [],
   "source": []
  },
  {
   "cell_type": "code",
   "execution_count": 3,
   "metadata": {},
   "outputs": [],
   "source": [
    "dfd = pd.get_dummies(df['State'])\n",
    "\n",
    "for series in dfd:\n",
    "    dfd[series] = dfd[series].astype(float)\n",
    "dfd = pd.concat([df.drop(['State'],axis=1),dfd],axis=1)\n"
   ]
  },
  {
   "cell_type": "code",
   "execution_count": 4,
   "metadata": {},
   "outputs": [
    {
     "data": {
      "image/png": "[encoded data removed]",
      "text/plain": [
       "<Figure size 720x720 with 25 Axes>"
      ]
     },
     "metadata": {
      "needs_background": "light"
     },
     "output_type": "display_data"
    }
   ],
   "source": [
    "df.hist(figsize=(10,10))\n",
    "plt.show()"
   ]
  },
  {
   "cell_type": "code",
   "execution_count": 5,
   "metadata": {},
   "outputs": [],
   "source": [
    "from sklearn.preprocessing import StandardScaler\n",
    "X = dfd.drop(columns=['deaths_per_100k','deaths']).values\n",
    "y = dfd.deaths_per_100k.values"
   ]
  },
  {
   "cell_type": "code",
   "execution_count": 6,
   "metadata": {},
   "outputs": [],
   "source": [
    "scaler = StandardScaler()\n",
    "X = scaler.fit_transform(X)"
   ]
  },
  {
   "cell_type": "code",
   "execution_count": 7,
   "metadata": {},
   "outputs": [],
   "source": [
    "from sklearn.model_selection import train_test_split\n",
    "\n",
    "X_train, X_test, y_train, y_test = train_test_split(X, y, test_size=0.3, random_state=123)"
   ]
  },
  {
   "cell_type": "code",
   "execution_count": 8,
   "metadata": {},
   "outputs": [],
   "source": [
    "y_train = y_train.reshape(-1,1)\n",
    "y_test = y_test.reshape(-1,1)"
   ]
  },
  {
   "cell_type": "markdown",
   "metadata": {},
   "source": [
    "# Modeling"
   ]
  },
  {
   "cell_type": "markdown",
   "metadata": {},
   "source": [
    "## Model 1 - KNN"
   ]
  },
  {
   "cell_type": "code",
   "execution_count": 9,
   "metadata": {},
   "outputs": [],
   "source": [
    "from sklearn.neighbors import KNeighborsRegressor\n",
    "from sklearn.model_selection import GridSearchCV\n",
    "from sklearn.neighbors import NearestNeighbors\n",
    "from sklearn.metrics import r2_score"
   ]
  },
  {
   "cell_type": "code",
   "execution_count": 10,
   "metadata": {},
   "outputs": [],
   "source": [
    "knr = KNeighborsRegressor()\n",
    "knr.fit(X_train, y_train)\n",
    "y_pred = knr.predict(X_test)"
   ]
  },
  {
   "cell_type": "code",
   "execution_count": 11,
   "metadata": {},
   "outputs": [
    {
     "data": {
      "text/plain": [
       "0.123653841365995"
      ]
     },
     "execution_count": 11,
     "metadata": {},
     "output_type": "execute_result"
    }
   ],
   "source": [
    "r2_score(y_test,y_pred)"
   ]
  },
  {
   "cell_type": "code",
   "execution_count": 12,
   "metadata": {},
   "outputs": [
    {
     "data": {
      "text/plain": [
       "{'algorithm': 'auto', 'n_neighbors': 5}"
      ]
     },
     "execution_count": 12,
     "metadata": {},
     "output_type": "execute_result"
    }
   ],
   "source": [
    "param_grid = {'n_neighbors':np.arange(1,10),\n",
    "             'algorithm': ['auto', 'ball_tree', 'kd_tree', 'brute']}\n",
    "knr_cv = GridSearchCV(knr, param_grid=param_grid, cv=5)\n",
    "knr_cv.fit(X_train, y_train)\n",
    "y_pred2 = knr_cv.predict(X_test)\n",
    "\n",
    "knr_cv.best_params_"
   ]
  },
  {
   "cell_type": "code",
   "execution_count": 13,
   "metadata": {},
   "outputs": [],
   "source": [
    "knr2 = KNeighborsRegressor(n_neighbors=6)\n",
    "knr2.fit(X_train, y_train)\n",
    "y_pred3 = knr2.predict(X_test)"
   ]
  },
  {
   "cell_type": "code",
   "execution_count": 14,
   "metadata": {},
   "outputs": [
    {
     "name": "stdout",
     "output_type": "stream",
     "text": [
      "R2 Score: 0.0889977860831791\n",
      "MSE Score: 0.6198950748971803\n",
      "Explained Variance Score: 0.1439075757273981\n"
     ]
    }
   ],
   "source": [
    "from sklearn.metrics import mean_squared_error, explained_variance_score\n",
    "print(\"R2 Score: \" + str(r2_score(y_test, y_pred3)))\n",
    "print(\"MSE Score: \" + str(mean_squared_error(y_test,y_pred3)))\n",
    "print(\"Explained Variance Score: \" + str(explained_variance_score(y_test,y_pred3)))"
   ]
  },
  {
   "cell_type": "code",
   "execution_count": 15,
   "metadata": {},
   "outputs": [
    {
     "data": {
      "text/plain": [
       "Text(0, 0.5, 'Y_Pred Values')"
      ]
     },
     "execution_count": 15,
     "metadata": {},
     "output_type": "execute_result"
    },
    {
     "data": {
      "image/png": "[encoded data removed]",
      "text/plain": [
       "<Figure size 432x288 with 1 Axes>"
      ]
     },
     "metadata": {
      "needs_background": "light"
     },
     "output_type": "display_data"
    }
   ],
   "source": [
    "plt.scatter(x=y_test, y=y_pred3)\n",
    "plt.xlim(0,4)\n",
    "plt.ylim(0,2.5)\n",
    "plt.xlabel('Y_Test Values')\n",
    "plt.ylabel('Y_Pred Values')"
   ]
  },
  {
   "cell_type": "markdown",
   "metadata": {},
   "source": [
    "## Model 2"
   ]
  },
  {
   "cell_type": "code",
   "execution_count": 16,
   "metadata": {},
   "outputs": [],
   "source": [
    "import xgboost as xgb\n",
    "from xgboost import XGBRegressor\n",
    "\n",
    "xgbreg = XGBRegressor(random_state=42,silent=True)\n",
    "xgbreg.fit(X_train,y_train)\n",
    "y_pred4 = xgbreg.predict(X_test)\n"
   ]
  },
  {
   "cell_type": "code",
   "execution_count": 17,
   "metadata": {},
   "outputs": [
    {
     "name": "stdout",
     "output_type": "stream",
     "text": [
      "R2 Score: 0.06434180380040333\n",
      "MSE Score: 0.6366723359733432\n",
      "Explained Variance Score: 0.06490052722056083\n"
     ]
    }
   ],
   "source": [
    "print(\"R2 Score: \" + str(r2_score(y_test, y_pred4)))\n",
    "print(\"MSE Score: \" + str(mean_squared_error(y_test,y_pred4)))\n",
    "print(\"Explained Variance Score: \" + str(explained_variance_score(y_test,y_pred4)))"
   ]
  },
  {
   "cell_type": "code",
   "execution_count": 18,
   "metadata": {},
   "outputs": [],
   "source": [
    "param_grid = ({'n_estimators': np.arange(1,15),\n",
    "               'max_depth': np.arange(1,15),\n",
    "               'learning_rate':[0.1,0.3,0.5,0.7]})\n",
    "xgbreg_cv = GridSearchCV(xgbreg, param_grid=param_grid, cv=5)\n",
    "xgbreg_cv.fit(X_train, y_train)\n",
    "y_pred5 = xgbreg_cv.predict(X_test)"
   ]
  },
  {
   "cell_type": "code",
   "execution_count": 19,
   "metadata": {},
   "outputs": [
    {
     "data": {
      "text/plain": [
       "{'learning_rate': 0.7, 'max_depth': 2, 'n_estimators': 11}"
      ]
     },
     "execution_count": 19,
     "metadata": {},
     "output_type": "execute_result"
    }
   ],
   "source": [
    "xgbreg_cv.best_params_"
   ]
  },
  {
   "cell_type": "code",
   "execution_count": 20,
   "metadata": {},
   "outputs": [],
   "source": [
    "xgbreg2 = XGBRegressor(n_estimators=11, max_depth=2, learning_rate=0.7, booster='gbtree', random_state=42,silent=True)\n",
    "xgbreg2.fit(X_train,y_train)\n",
    "y_pred5 = xgbreg2.predict(X_test)"
   ]
  },
  {
   "cell_type": "code",
   "execution_count": 21,
   "metadata": {},
   "outputs": [
    {
     "name": "stdout",
     "output_type": "stream",
     "text": [
      "R2 Score: 0.15084235323091155\n",
      "MSE Score: 0.5778126935391833\n",
      "Explained Variance Score: 0.15435678144594833\n"
     ]
    }
   ],
   "source": [
    "print(\"R2 Score: \" + str(r2_score(y_test, y_pred5)))\n",
    "print(\"MSE Score: \" + str(mean_squared_error(y_test,y_pred5)))\n",
    "print(\"Explained Variance Score: \" + str(explained_variance_score(y_test,y_pred5)))\n",
    "\n",
    "#odd, results are not as strong as before using gridsearch."
   ]
  },
  {
   "cell_type": "code",
   "execution_count": 22,
   "metadata": {},
   "outputs": [
    {
     "data": {
      "text/html": [
       "<div>\n",
       "<style scoped>\n",
       "    .dataframe tbody tr th:only-of-type {\n",
       "        vertical-align: middle;\n",
       "    }\n",
       "\n",
       "    .dataframe tbody tr th {\n",
       "        vertical-align: top;\n",
       "    }\n",
       "\n",
       "    .dataframe thead th {\n",
       "        text-align: right;\n",
       "    }\n",
       "</style>\n",
       "<table border=\"1\" class=\"dataframe\">\n",
       "  <thead>\n",
       "    <tr style=\"text-align: right;\">\n",
       "      <th></th>\n",
       "      <th>0</th>\n",
       "    </tr>\n",
       "  </thead>\n",
       "  <tbody>\n",
       "    <tr>\n",
       "      <th>pctPopNative</th>\n",
       "      <td>0.530638</td>\n",
       "    </tr>\n",
       "    <tr>\n",
       "      <th>pctPopAsian</th>\n",
       "      <td>0.152446</td>\n",
       "    </tr>\n",
       "    <tr>\n",
       "      <th>exp per station</th>\n",
       "      <td>0.053127</td>\n",
       "    </tr>\n",
       "    <tr>\n",
       "      <th>pctDeathsNative</th>\n",
       "      <td>0.042837</td>\n",
       "    </tr>\n",
       "    <tr>\n",
       "      <th>pctDeathsBlack</th>\n",
       "      <td>0.033530</td>\n",
       "    </tr>\n",
       "    <tr>\n",
       "      <th>pctDeathsOther</th>\n",
       "      <td>0.033360</td>\n",
       "    </tr>\n",
       "    <tr>\n",
       "      <th>pctDeathsWhite</th>\n",
       "      <td>0.031251</td>\n",
       "    </tr>\n",
       "    <tr>\n",
       "      <th>Population</th>\n",
       "      <td>0.028683</td>\n",
       "    </tr>\n",
       "    <tr>\n",
       "      <th>pctPopBlack</th>\n",
       "      <td>0.021564</td>\n",
       "    </tr>\n",
       "    <tr>\n",
       "      <th>Acquisition Value</th>\n",
       "      <td>0.019192</td>\n",
       "    </tr>\n",
       "    <tr>\n",
       "      <th>numStations</th>\n",
       "      <td>0.011087</td>\n",
       "    </tr>\n",
       "    <tr>\n",
       "      <th>deaths</th>\n",
       "      <td>0.010072</td>\n",
       "    </tr>\n",
       "    <tr>\n",
       "      <th>pctDeathsAsian</th>\n",
       "      <td>0.008481</td>\n",
       "    </tr>\n",
       "    <tr>\n",
       "      <th>pctfleeing</th>\n",
       "      <td>0.007346</td>\n",
       "    </tr>\n",
       "    <tr>\n",
       "      <th>pctPopWhite</th>\n",
       "      <td>0.007017</td>\n",
       "    </tr>\n",
       "    <tr>\n",
       "      <th>pctDeathsHispanic</th>\n",
       "      <td>0.003627</td>\n",
       "    </tr>\n",
       "    <tr>\n",
       "      <th>pctPopOther</th>\n",
       "      <td>0.001806</td>\n",
       "    </tr>\n",
       "    <tr>\n",
       "      <th>pctMHSymptoms</th>\n",
       "      <td>0.001736</td>\n",
       "    </tr>\n",
       "    <tr>\n",
       "      <th>pctBodyCam</th>\n",
       "      <td>0.000988</td>\n",
       "    </tr>\n",
       "    <tr>\n",
       "      <th>pctPopHisp</th>\n",
       "      <td>0.000659</td>\n",
       "    </tr>\n",
       "    <tr>\n",
       "      <th>NV</th>\n",
       "      <td>0.000251</td>\n",
       "    </tr>\n",
       "    <tr>\n",
       "      <th>TX</th>\n",
       "      <td>0.000170</td>\n",
       "    </tr>\n",
       "    <tr>\n",
       "      <th>ME</th>\n",
       "      <td>0.000132</td>\n",
       "    </tr>\n",
       "  </tbody>\n",
       "</table>\n",
       "</div>"
      ],
      "text/plain": [
       "                          0\n",
       "pctPopNative       0.530638\n",
       "pctPopAsian        0.152446\n",
       "exp per station    0.053127\n",
       "pctDeathsNative    0.042837\n",
       "pctDeathsBlack     0.033530\n",
       "pctDeathsOther     0.033360\n",
       "pctDeathsWhite     0.031251\n",
       "Population         0.028683\n",
       "pctPopBlack        0.021564\n",
       "Acquisition Value  0.019192\n",
       "numStations        0.011087\n",
       "deaths             0.010072\n",
       "pctDeathsAsian     0.008481\n",
       "pctfleeing         0.007346\n",
       "pctPopWhite        0.007017\n",
       "pctDeathsHispanic  0.003627\n",
       "pctPopOther        0.001806\n",
       "pctMHSymptoms      0.001736\n",
       "pctBodyCam         0.000988\n",
       "pctPopHisp         0.000659\n",
       "NV                 0.000251\n",
       "TX                 0.000170\n",
       "ME                 0.000132"
      ]
     },
     "execution_count": 22,
     "metadata": {},
     "output_type": "execute_result"
    }
   ],
   "source": [
    "features = pd.DataFrame(xgbreg.feature_importances_, index=dfd.columns[1:69])\n",
    "features[features[0]>0].sort_values(by=0, ascending=False)"
   ]
  },
  {
   "cell_type": "code",
   "execution_count": 23,
   "metadata": {},
   "outputs": [
    {
     "data": {
      "text/plain": [
       "Text(0, 0.5, 'Y_Pred Values')"
      ]
     },
     "execution_count": 23,
     "metadata": {},
     "output_type": "execute_result"
    },
    {
     "data": {
      "image/png": "[encoded data removed]",
      "text/plain": [
       "<Figure size 432x288 with 1 Axes>"
      ]
     },
     "metadata": {
      "needs_background": "light"
     },
     "output_type": "display_data"
    }
   ],
   "source": [
    "plt.scatter(x=y_test, y=y_pred4)\n",
    "plt.xlim(0,5)\n",
    "plt.ylim(0,4)\n",
    "plt.xlabel('Y_Test Values')\n",
    "plt.ylabel('Y_Pred Values')"
   ]
  },
  {
   "cell_type": "markdown",
   "metadata": {},
   "source": [
    "## Model 2.5"
   ]
  },
  {
   "cell_type": "code",
   "execution_count": 24,
   "metadata": {},
   "outputs": [],
   "source": [
    "## dropping alaska as an outlier\n",
    "X2 = dfd.drop(columns=['deaths_per_100k','deaths','AK']).values\n",
    "y2 = dfd.deaths_per_100k.values\n",
    "scaler = StandardScaler()\n",
    "X2 = scaler.fit_transform(X2)\n",
    "X2_train, X2_test, y2_train, y2_test = train_test_split(X2, y2, test_size=0.3, random_state=123)\n",
    "y2_train = y2_train.reshape(-1,1)\n",
    "y2_test = y2_test.reshape(-1,1)"
   ]
  },
  {
   "cell_type": "code",
   "execution_count": 26,
   "metadata": {},
   "outputs": [],
   "source": [
    "xgbreg2 = XGBRegressor(random_state=42,silent=True)\n",
    "xgbreg2.fit(X2_train,y2_train)\n",
    "y2_pred = xgbreg2.predict(X2_test)"
   ]
  },
  {
   "cell_type": "code",
   "execution_count": 27,
   "metadata": {},
   "outputs": [
    {
     "name": "stdout",
     "output_type": "stream",
     "text": [
      "R2 Score: 0.06434180380040333\n",
      "MSE Score: 0.6366723359733432\n",
      "Explained Variance Score: 0.06490052722056083\n"
     ]
    }
   ],
   "source": [
    "print(\"R2 Score: \" + str(r2_score(y2_test, y2_pred)))\n",
    "print(\"MSE Score: \" + str(mean_squared_error(y2_test,y2_pred)))\n",
    "print(\"Explained Variance Score: \" + str(explained_variance_score(y2_test,y2_pred)))"
   ]
  },
  {
   "cell_type": "code",
   "execution_count": 28,
   "metadata": {},
   "outputs": [
    {
     "data": {
      "text/html": [
       "<div>\n",
       "<style scoped>\n",
       "    .dataframe tbody tr th:only-of-type {\n",
       "        vertical-align: middle;\n",
       "    }\n",
       "\n",
       "    .dataframe tbody tr th {\n",
       "        vertical-align: top;\n",
       "    }\n",
       "\n",
       "    .dataframe thead th {\n",
       "        text-align: right;\n",
       "    }\n",
       "</style>\n",
       "<table border=\"1\" class=\"dataframe\">\n",
       "  <thead>\n",
       "    <tr style=\"text-align: right;\">\n",
       "      <th></th>\n",
       "      <th>0</th>\n",
       "    </tr>\n",
       "  </thead>\n",
       "  <tbody>\n",
       "    <tr>\n",
       "      <th>pctPopNative</th>\n",
       "      <td>0.530638</td>\n",
       "    </tr>\n",
       "    <tr>\n",
       "      <th>pctPopAsian</th>\n",
       "      <td>0.152446</td>\n",
       "    </tr>\n",
       "    <tr>\n",
       "      <th>exp per station</th>\n",
       "      <td>0.053127</td>\n",
       "    </tr>\n",
       "    <tr>\n",
       "      <th>pctDeathsNative</th>\n",
       "      <td>0.042837</td>\n",
       "    </tr>\n",
       "    <tr>\n",
       "      <th>pctDeathsBlack</th>\n",
       "      <td>0.033530</td>\n",
       "    </tr>\n",
       "    <tr>\n",
       "      <th>pctDeathsOther</th>\n",
       "      <td>0.033360</td>\n",
       "    </tr>\n",
       "    <tr>\n",
       "      <th>pctDeathsWhite</th>\n",
       "      <td>0.031251</td>\n",
       "    </tr>\n",
       "    <tr>\n",
       "      <th>Population</th>\n",
       "      <td>0.028683</td>\n",
       "    </tr>\n",
       "    <tr>\n",
       "      <th>pctPopBlack</th>\n",
       "      <td>0.021564</td>\n",
       "    </tr>\n",
       "    <tr>\n",
       "      <th>Acquisition Value</th>\n",
       "      <td>0.019192</td>\n",
       "    </tr>\n",
       "    <tr>\n",
       "      <th>numStations</th>\n",
       "      <td>0.011087</td>\n",
       "    </tr>\n",
       "    <tr>\n",
       "      <th>deaths</th>\n",
       "      <td>0.010072</td>\n",
       "    </tr>\n",
       "    <tr>\n",
       "      <th>pctDeathsAsian</th>\n",
       "      <td>0.008481</td>\n",
       "    </tr>\n",
       "    <tr>\n",
       "      <th>pctfleeing</th>\n",
       "      <td>0.007346</td>\n",
       "    </tr>\n",
       "    <tr>\n",
       "      <th>pctPopWhite</th>\n",
       "      <td>0.007017</td>\n",
       "    </tr>\n",
       "    <tr>\n",
       "      <th>pctDeathsHispanic</th>\n",
       "      <td>0.003627</td>\n",
       "    </tr>\n",
       "    <tr>\n",
       "      <th>pctPopOther</th>\n",
       "      <td>0.001806</td>\n",
       "    </tr>\n",
       "    <tr>\n",
       "      <th>pctMHSymptoms</th>\n",
       "      <td>0.001736</td>\n",
       "    </tr>\n",
       "    <tr>\n",
       "      <th>pctBodyCam</th>\n",
       "      <td>0.000988</td>\n",
       "    </tr>\n",
       "    <tr>\n",
       "      <th>pctPopHisp</th>\n",
       "      <td>0.000659</td>\n",
       "    </tr>\n",
       "    <tr>\n",
       "      <th>NM</th>\n",
       "      <td>0.000251</td>\n",
       "    </tr>\n",
       "    <tr>\n",
       "      <th>TN</th>\n",
       "      <td>0.000170</td>\n",
       "    </tr>\n",
       "    <tr>\n",
       "      <th>MD</th>\n",
       "      <td>0.000132</td>\n",
       "    </tr>\n",
       "  </tbody>\n",
       "</table>\n",
       "</div>"
      ],
      "text/plain": [
       "                          0\n",
       "pctPopNative       0.530638\n",
       "pctPopAsian        0.152446\n",
       "exp per station    0.053127\n",
       "pctDeathsNative    0.042837\n",
       "pctDeathsBlack     0.033530\n",
       "pctDeathsOther     0.033360\n",
       "pctDeathsWhite     0.031251\n",
       "Population         0.028683\n",
       "pctPopBlack        0.021564\n",
       "Acquisition Value  0.019192\n",
       "numStations        0.011087\n",
       "deaths             0.010072\n",
       "pctDeathsAsian     0.008481\n",
       "pctfleeing         0.007346\n",
       "pctPopWhite        0.007017\n",
       "pctDeathsHispanic  0.003627\n",
       "pctPopOther        0.001806\n",
       "pctMHSymptoms      0.001736\n",
       "pctBodyCam         0.000988\n",
       "pctPopHisp         0.000659\n",
       "NM                 0.000251\n",
       "TN                 0.000170\n",
       "MD                 0.000132"
      ]
     },
     "execution_count": 28,
     "metadata": {},
     "output_type": "execute_result"
    }
   ],
   "source": [
    "features2 = pd.DataFrame(xgbreg2.feature_importances_, index=dfd.columns[1:68])\n",
    "features2[features2[0]>0].sort_values(by=0, ascending=False)"
   ]
  },
  {
   "cell_type": "code",
   "execution_count": null,
   "metadata": {},
   "outputs": [],
   "source": [
    "## Asian Population still remains highly weighted even after dropping Alaska"
   ]
  },
  {
   "cell_type": "code",
   "execution_count": null,
   "metadata": {},
   "outputs": [],
   "source": []
  },
  {
   "cell_type": "code",
   "execution_count": null,
   "metadata": {},
   "outputs": [],
   "source": []
  },
  {
   "cell_type": "markdown",
   "metadata": {},
   "source": [
    "## Model 3"
   ]
  },
  {
   "cell_type": "code",
   "execution_count": 86,
   "metadata": {},
   "outputs": [],
   "source": [
    "from sklearn.linear_model import Lasso"
   ]
  },
  {
   "cell_type": "code",
   "execution_count": 92,
   "metadata": {},
   "outputs": [],
   "source": [
    "lasso = Lasso(random_state=42)\n",
    "lasso.fit(X_train,y_train)\n",
    "y_pred6 = lasso.predict(X_test)"
   ]
  },
  {
   "cell_type": "code",
   "execution_count": 93,
   "metadata": {},
   "outputs": [
    {
     "name": "stdout",
     "output_type": "stream",
     "text": [
      "R2 Score: -0.057613975188765654\n",
      "MSE Score: 0.7196576301864016\n",
      "Explained Variance Score: 0.003752538363008262\n"
     ]
    },
    {
     "data": {
      "text/plain": [
       "<bound method BaseEstimator.get_params of Lasso(alpha=1.0, copy_X=True, fit_intercept=True, max_iter=1000,\n",
       "      normalize=False, positive=False, precompute=False, random_state=42,\n",
       "      selection='cyclic', tol=0.0001, warm_start=False)>"
      ]
     },
     "execution_count": 93,
     "metadata": {},
     "output_type": "execute_result"
    }
   ],
   "source": [
    "print(\"R2 Score: \" + str(r2_score(y_test, y_pred6)))\n",
    "print(\"MSE Score: \" + str(mean_squared_error(y_test,y_pred6)))\n",
    "print(\"Explained Variance Score: \" + str(explained_variance_score(y_test,y_pred6)))\n",
    "lasso.get_params"
   ]
  },
  {
   "cell_type": "code",
   "execution_count": 41,
   "metadata": {},
   "outputs": [
    {
     "data": {
      "text/plain": [
       "{'fit_intercept': True, 'max_iter': 500, 'normalize': False}"
      ]
     },
     "execution_count": 41,
     "metadata": {},
     "output_type": "execute_result"
    }
   ],
   "source": [
    "param_grid = {'fit_intercept':[True,False],\n",
    "              'normalize':[True,False],\n",
    "              'max_iter': [500, 1000, 1500]\n",
    "             }\n",
    "lasso_cv = GridSearchCV(lasso, param_grid=param_grid, cv=5)\n",
    "lasso_cv.fit(X_train, y_train)\n",
    "y_pred3 = lasso_cv.predict(X_test)\n",
    "\n",
    "lasso_cv.best_params_"
   ]
  },
  {
   "cell_type": "code",
   "execution_count": 49,
   "metadata": {},
   "outputs": [],
   "source": [
    "lasso2 = Lasso(random_state=42, max_iter=1500)\n",
    "lasso2.fit(X_train,y_train)\n",
    "y_pred7 = lasso2.predict(X_test)"
   ]
  },
  {
   "cell_type": "code",
   "execution_count": 54,
   "metadata": {},
   "outputs": [
    {
     "name": "stdout",
     "output_type": "stream",
     "text": [
      "R2 Score: -0.057613975188765654\n",
      "MSE Score: 0.7196576301864016\n",
      "Explained Variance Score: 0.003752538363008262\n"
     ]
    }
   ],
   "source": [
    "print(\"R2 Score: \" + str(r2_score(y_test, y_pred7)))\n",
    "print(\"MSE Score: \" + str(mean_squared_error(y_test,y_pred7)))\n",
    "print(\"Explained Variance Score: \" + str(explained_variance_score(y_test,y_pred7)))"
   ]
  },
  {
   "cell_type": "code",
   "execution_count": 51,
   "metadata": {},
   "outputs": [
    {
     "data": {
      "text/html": [
       "<div>\n",
       "<style scoped>\n",
       "    .dataframe tbody tr th:only-of-type {\n",
       "        vertical-align: middle;\n",
       "    }\n",
       "\n",
       "    .dataframe tbody tr th {\n",
       "        vertical-align: top;\n",
       "    }\n",
       "\n",
       "    .dataframe thead th {\n",
       "        text-align: right;\n",
       "    }\n",
       "</style>\n",
       "<table border=\"1\" class=\"dataframe\">\n",
       "  <thead>\n",
       "    <tr style=\"text-align: right;\">\n",
       "      <th></th>\n",
       "      <th>0</th>\n",
       "    </tr>\n",
       "  </thead>\n",
       "  <tbody>\n",
       "    <tr>\n",
       "      <th>pctPopNative</th>\n",
       "      <td>0.050385</td>\n",
       "    </tr>\n",
       "  </tbody>\n",
       "</table>\n",
       "</div>"
      ],
      "text/plain": [
       "                     0\n",
       "pctPopNative  0.050385"
      ]
     },
     "execution_count": 51,
     "metadata": {},
     "output_type": "execute_result"
    }
   ],
   "source": [
    "features3 = pd.DataFrame(lasso.coef_, index=dfd.columns[1:69])\n",
    "features3[features3[0]>0].sort_values(by=0, ascending=False)"
   ]
  },
  {
   "cell_type": "markdown",
   "metadata": {},
   "source": [
    "## Model 4"
   ]
  },
  {
   "cell_type": "code",
   "execution_count": 79,
   "metadata": {},
   "outputs": [],
   "source": [
    "from sklearn.linear_model import ElasticNetCV"
   ]
  },
  {
   "cell_type": "code",
   "execution_count": 85,
   "metadata": {},
   "outputs": [
    {
     "name": "stderr",
     "output_type": "stream",
     "text": [
      "/Users/rachelruzzo/opt/anaconda3/lib/python3.7/site-packages/sklearn/linear_model/_coordinate_descent.py:1088: DataConversionWarning: A column-vector y was passed when a 1d array was expected. Please change the shape of y to (n_samples, ), for example using ravel().\n",
      "  y = column_or_1d(y, warn=True)\n"
     ]
    }
   ],
   "source": [
    "enet_cv = ElasticNetCV(l1_ratio = [.1, .5, .7, .9, .95, .99, 1], cv=5)\n",
    "enet_cv.fit(X_train, y_train)\n",
    "y_pred8 = enet_cv.predict(X_test)"
   ]
  },
  {
   "cell_type": "code",
   "execution_count": 77,
   "metadata": {},
   "outputs": [
    {
     "name": "stdout",
     "output_type": "stream",
     "text": [
      "R2 Score: -0.16305982867663804\n",
      "MSE Score: 0.7914086800158259\n",
      "Explained Variance Score: -0.13123814614299656\n"
     ]
    }
   ],
   "source": [
    "print(\"R2 Score: \" + str(r2_score(y_test, y_pred8)))\n",
    "print(\"MSE Score: \" + str(mean_squared_error(y_test,y_pred8)))\n",
    "print(\"Explained Variance Score: \" + str(explained_variance_score(y_test,y_pred8)))"
   ]
  },
  {
   "cell_type": "markdown",
   "metadata": {},
   "source": [
    "# Model Results"
   ]
  },
  {
   "cell_type": "markdown",
   "metadata": {},
   "source": [
    "| Model | Explained Variance| Mean Squared Error| R2 Score | Features Dropped | \n",
    "| --- | --- | --- | --- | --- |\n",
    "| Model 1. (KNeighbors Regression) | 0.14 | 0.62 | 0.089 | 'deaths' |\n",
    "| Model 2. (XGB) | 0.065 | 0.64 | 0.064 | 'deaths' |\n",
    "| Model 2.5 (XGB) | 0.065 | 0.64 | 0.065 | 'deaths', 'AK' |\n",
    "| Model 3 (Lasso) | 0.003 | 0.72| -0.058| 'deaths' | \n",
    "| Model 3 (Elastic Nt) | -0.131 | 0.79| -0.16| 'deaths' | \n",
    "\n"
   ]
  },
  {
   "cell_type": "markdown",
   "metadata": {},
   "source": [
    "Model Selection: Model 2"
   ]
  },
  {
   "cell_type": "code",
   "execution_count": null,
   "metadata": {},
   "outputs": [],
   "source": []
  }
 ],
 "metadata": {
  "kernelspec": {
   "display_name": "Python 3",
   "language": "python",
   "name": "python3"
  },
  "language_info": {
   "codemirror_mode": {
    "name": "ipython",
    "version": 3
   },
   "file_extension": ".py",
   "mimetype": "text/x-python",
   "name": "python",
   "nbconvert_exporter": "python",
   "pygments_lexer": "ipython3",
   "version": "3.7.6"
  }
 },
 "nbformat": 4,
 "nbformat_minor": 4
}
